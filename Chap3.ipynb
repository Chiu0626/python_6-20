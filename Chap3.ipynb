{
 "cells": [
  {
   "cell_type": "markdown",
   "metadata": {},
   "source": [
    "# Python物件\n",
    "## List[串列] Tuple(元組) Dictionary{字典} Sets{集合}"
   ]
  },
  {
   "cell_type": "markdown",
   "metadata": {},
   "source": [
    "## List[串列]\n",
    "使用中括號[]包裹元素"
   ]
  },
  {
   "cell_type": "code",
   "execution_count": 1,
   "metadata": {},
   "outputs": [
    {
     "name": "stdout",
     "output_type": "stream",
     "text": [
      "3600\n"
     ]
    }
   ],
   "source": [
    "expenses = [1138, 101, 12, 300, 2049] #宣告expenses陣列\n",
    "print(sum(expenses)) #印出陣列expenses總和"
   ]
  },
  {
   "cell_type": "markdown",
   "metadata": {},
   "source": [
    "### 索引"
   ]
  },
  {
   "cell_type": "code",
   "execution_count": 6,
   "metadata": {},
   "outputs": [
    {
     "name": "stdout",
     "output_type": "stream",
     "text": [
      "1138\n",
      "101\n",
      "2049\n",
      "300\n"
     ]
    }
   ],
   "source": [
    "expenses = [1138, 101, 12, 300, 2049] #宣告expenses陣列\n",
    "print(expenses[0]) #索引從0開始,印出expenses陣列第0個位置\n",
    "print(expenses[1]) #印出expenses陣列第一個位置\n",
    "print(expenses[-1]) #倒數第一個,印出expenses陣列倒數第一位置\n",
    "print(expenses[-2])  #印出expenses陣列倒數第二個位置"
   ]
  },
  {
   "cell_type": "code",
   "execution_count": 7,
   "metadata": {},
   "outputs": [
    {
     "name": "stdout",
     "output_type": "stream",
     "text": [
      "python\n"
     ]
    }
   ],
   "source": [
    "my_list0 = [] #宣告my_list0為空串列\n",
    "my_list1 = list() #宣告my_list1\n",
    "my_list2 = ['python', 'javascript', 'C#'] #宣告my_list2串列\n",
    "print(my_list2[0]) #印出my_list2串列的第0個位置"
   ]
  },
  {
   "cell_type": "markdown",
   "metadata": {},
   "source": [
    "## list的長度"
   ]
  },
  {
   "cell_type": "code",
   "execution_count": 8,
   "metadata": {},
   "outputs": [
    {
     "name": "stdout",
     "output_type": "stream",
     "text": [
      "3\n",
      "6\n"
     ]
    }
   ],
   "source": [
    "my_list2 = ['python', 'javascript', 'C#'] #宣告my_list2\n",
    "print(len(my_list2)) #印出my_list2裡的元素數量\n",
    "print(len(my_list2[0])) #印出my_list2裡第0個位置的長度"
   ]
  },
  {
   "cell_type": "markdown",
   "metadata": {},
   "source": [
    "### 附加"
   ]
  },
  {
   "cell_type": "code",
   "execution_count": 15,
   "metadata": {},
   "outputs": [
    {
     "name": "stdout",
     "output_type": "stream",
     "text": [
      "['python', 'javascript', 'C#', 'java']\n"
     ]
    }
   ],
   "source": [
    "my_list2 = ['python', 'javascript', 'C#'] #宣告my_list2\n",
    "my_list2.append('java') #新增元素java至my_list2串列內\n",
    "print(my_list2) #印出my_list2串列"
   ]
  },
  {
   "cell_type": "code",
   "execution_count": 16,
   "metadata": {},
   "outputs": [
    {
     "name": "stdout",
     "output_type": "stream",
     "text": [
      "['python', 'java', 'javascript', 'C#']\n"
     ]
    }
   ],
   "source": [
    "my_list2 = ['python', 'javascript', 'C#'] #宣告my_list2串列\n",
    "my_list2.insert(1,'java') #新增元素java至my_list2串列內的第一個位置\n",
    "print(my_list2) #印出my_list2串列"
   ]
  },
  {
   "cell_type": "markdown",
   "metadata": {},
   "source": [
    "### 刪除"
   ]
  },
  {
   "cell_type": "code",
   "execution_count": 19,
   "metadata": {},
   "outputs": [
    {
     "name": "stdout",
     "output_type": "stream",
     "text": [
      "['javascript', 'C#']\n",
      "['javascript']\n",
      "[]\n"
     ]
    }
   ],
   "source": [
    "my_list2 = ['python', 'javascript', 'C#'] #宣告my_list2串列\n",
    "my_list2.remove('python') #移除指定元素python\n",
    "print(my_list2) #印出my_list2串列\n",
    "del my_list2[-1] #刪除指定位置的元素\n",
    "print(my_list2) #印出my_list2串列\n",
    "my_list2.clear() #清除全部\n",
    "print(my_list2) #印出my_list2串列(my_list2為空串列)"
   ]
  },
  {
   "cell_type": "code",
   "execution_count": 20,
   "metadata": {},
   "outputs": [
    {
     "name": "stdout",
     "output_type": "stream",
     "text": [
      "[1, 2, 1, 2, 1, 2, 1, 2, 1, 2]\n"
     ]
    }
   ],
   "source": [
    "a=[1,2] #宣告a陣列\n",
    "print(a*5) #印出陣列a裡的元素重複五次"
   ]
  },
  {
   "cell_type": "markdown",
   "metadata": {},
   "source": [
    "### list取值"
   ]
  },
  {
   "cell_type": "code",
   "execution_count": 25,
   "metadata": {},
   "outputs": [
    {
     "name": "stdout",
     "output_type": "stream",
     "text": [
      "[1, 2, 3]\n",
      "[1, 3, 5, 7, 9]\n",
      "[1, 2, 3, 4, 5, 6, 7, 8, 9]\n",
      "[1, 2, 3, 4, 5, 6, 7, 8, 9]\n",
      "[1, 2, 3, 4, 5, 6, 7, 8, 9]\n"
     ]
    }
   ],
   "source": [
    "a=[1,2,3,4,5,6,7,8,9] #宣告陣列a\n",
    "b=a[0:3] #範圍取值，0,1,2不包含3 ,宣告陣列b\n",
    "print(b) #印出陣列b\n",
    "c=a[0:9:2] #間隔2取值 , 宣告陣列c\n",
    "print(c) #印出陣列c\n",
    "d = a[0: ] #宣告陣列d為陣列a從位置0到最後\n",
    "print(d) #印出陣列d\n",
    "e = a[ :9]#宣告陣列e為陣列a從位置從頭到9\n",
    "print(e) #印出陣列e\n",
    "f = a[:] #取全部值,宣告f\n",
    "print(f) #印出陣列f"
   ]
  },
  {
   "cell_type": "code",
   "execution_count": 33,
   "metadata": {},
   "outputs": [
    {
     "name": "stdout",
     "output_type": "stream",
     "text": [
      "[1, 2, 3, 4, 5, 6, 7]\n",
      "1\n",
      "7\n",
      "0\n",
      "4\n",
      "[7, 6, 5, 4, 3, 2, 1]\n",
      "[1, 2, 3, 4, 5, 6, 7]\n"
     ]
    }
   ],
   "source": [
    "a=[1,2,3,4,5,6,7,8,9] #宣告陣列a\n",
    "del a[7:9] #刪除某範圍值,刪除位置7到位置9\n",
    "print(a) #印出a陣列\n",
    "print(min(a)) #最小值\n",
    "print(max(a)) #最大值\n",
    "print(a.index(1)) #找出1所在的第一個索引值\n",
    "b=[1,0,0,1,1,1] #宣告陣列b\n",
    "print(b.count(1)) #1出現的次數\n",
    "a.reverse() #串列反轉\n",
    "print(a) #印出a陣列\n",
    "a.sort() #串列由小到大排序,a的值會被改變\n",
    "print(a) #印出排序後的陣列a"
   ]
  },
  {
   "cell_type": "code",
   "execution_count": 34,
   "metadata": {},
   "outputs": [
    {
     "name": "stdout",
     "output_type": "stream",
     "text": [
      "[12, 101, 300, 1138, 2049] [1138, 101, 12, 300, 2049]\n"
     ]
    }
   ],
   "source": [
    "expenses = [1138, 101, 12, 300, 2049] #宣告陣列expenses\n",
    "s=sorted(expenses) #expenses的值不會變，宣告s為expenses排序\n",
    "print(s, expenses) #印出s和expenses"
   ]
  },
  {
   "cell_type": "code",
   "execution_count": null,
   "metadata": {},
   "outputs": [],
   "source": []
  }
 ],
 "metadata": {
  "kernelspec": {
   "display_name": "Python 3",
   "language": "python",
   "name": "python3"
  },
  "language_info": {
   "codemirror_mode": {
    "name": "ipython",
    "version": 3
   },
   "file_extension": ".py",
   "mimetype": "text/x-python",
   "name": "python",
   "nbconvert_exporter": "python",
   "pygments_lexer": "ipython3",
   "version": "3.8.5"
  }
 },
 "nbformat": 4,
 "nbformat_minor": 4
}
