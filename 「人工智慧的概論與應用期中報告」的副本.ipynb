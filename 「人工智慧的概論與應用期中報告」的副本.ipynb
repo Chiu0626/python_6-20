{
  "cells": [
    {
      "cell_type": "code",
      "execution_count": null,
      "metadata": {
        "id": "5FyDKVrYpaS3"
      },
      "outputs": [],
      "source": [
        "a=77  #產生並定義a變數\n",
        "b=33  #產生並定義b變數\n",
        "a+b #a變數+b變數\n",
        "#(顯示結果)"
      ]
    },
    {
      "cell_type": "code",
      "source": [
        ""
      ],
      "metadata": {
        "id": "GKt7wJxyjJBX"
      },
      "execution_count": null,
      "outputs": []
    },
    {
      "cell_type": "markdown",
      "source": [
        ""
      ],
      "metadata": {
        "id": "ZB9c59rRjJW1"
      }
    },
    {
      "cell_type": "code",
      "execution_count": null,
      "metadata": {
        "scrolled": true,
        "id": "a2xVIVbwpaS7"
      },
      "outputs": [],
      "source": [
        "import calendar #宣告calendar模組\n",
        "print(calendar.month(2022,3)) #顯示日曆.月份(2022年3月)"
      ]
    },
    {
      "cell_type": "code",
      "execution_count": null,
      "metadata": {
        "id": "e5JtRf4fpaS8"
      },
      "outputs": [],
      "source": [
        "import calendar #宣告calendar模組\n",
        "print(calendar.calendar(2002)) #顯示日曆.日曆(2022年)"
      ]
    },
    {
      "cell_type": "code",
      "execution_count": null,
      "metadata": {
        "id": "NZaICly4paS9"
      },
      "outputs": [],
      "source": [
        "import requests #宣告requests模組\n",
        "a=requests.get(\"http://www.must.edu.tw\")  #建立a變數為requests.get(網址)\n",
        "print(a.text) #顯示a的文字"
      ]
    },
    {
      "cell_type": "code",
      "execution_count": null,
      "metadata": {
        "id": "5VoTg1v-paS-"
      },
      "outputs": [],
      "source": [
        "import webbrowser #宣告webbrowser模組\n",
        "b=requests.get(\"https://random.dog/woof.json\").json()['url']  #建立b變數為requests.get(網址)的json檔\n",
        "webbrowser.open(b)  #打開b"
      ]
    },
    {
      "cell_type": "code",
      "execution_count": null,
      "metadata": {
        "id": "dmngJfSbpaS_"
      },
      "outputs": [],
      "source": [
        "import  matplotlib.pyplot as plt  ##宣告matplotlib.pyplot模組，變數為plt\n",
        "x=[1,2,3] #X軸位址\n",
        "y=[4,5,6] #Y軸位址\n",
        "plt.bar(x,y)  #把x、y陣列放進plt裡\n",
        "plt.show()  #顯示plt"
      ]
    },
    {
      "cell_type": "code",
      "execution_count": null,
      "metadata": {
        "id": "u7s8vjvApaS_"
      },
      "outputs": [],
      "source": [
        "plt.pie(x, labels=y)  #宣告plt為圓餅圖\n",
        "plt.show()  #顯示plt"
      ]
    },
    {
      "cell_type": "markdown",
      "source": [
        "# Chap 1 運算式、變數與資料型別\n",
        "## 註解"
      ],
      "metadata": {
        "id": "linEnZHl1185"
      }
    },
    {
      "cell_type": "code",
      "execution_count": null,
      "metadata": {
        "id": "fjrFZGcCpaTA",
        "colab": {
          "base_uri": "https://localhost:8080/"
        },
        "outputId": "2c6fe191-dc32-4947-9829-083ddb4d7935"
      },
      "outputs": [
        {
          "output_type": "stream",
          "name": "stdout",
          "text": [
            "8\n"
          ]
        }
      ],
      "source": [
        "a=5 #賦予a變數的值為5\n",
        "b=3 #賦予b變數的值為3\n",
        "print(a+b) #印出a+b的值,a+b=8"
      ]
    },
    {
      "cell_type": "code",
      "source": [
        "'''\n",
        "多行註解\n",
        "多行註解\n",
        "'''\n",
        "a=5 #賦予a的值為5\n",
        "b=3 #賦予b的值為3\n",
        "print(a+b) #印出a+b的值,a+b=8"
      ],
      "metadata": {
        "colab": {
          "base_uri": "https://localhost:8080/"
        },
        "id": "avNk-cLxpKZ2",
        "outputId": "28a6baa4-67cb-42e2-c505-30caf8a9e3a6"
      },
      "execution_count": null,
      "outputs": [
        {
          "output_type": "stream",
          "name": "stdout",
          "text": [
            "8\n"
          ]
        }
      ]
    },
    {
      "cell_type": "code",
      "source": [
        ""
      ],
      "metadata": {
        "id": "e97sITB2kNF3"
      },
      "execution_count": null,
      "outputs": []
    },
    {
      "cell_type": "markdown",
      "source": [
        "#運算式"
      ],
      "metadata": {
        "id": "FzU0JS6EfTyC"
      }
    },
    {
      "cell_type": "code",
      "source": [
        "#變數交換 利用第三方變數交換\n",
        "X=99 #賦予X的值為99\n",
        "Y=102 #賦予Y的值為102 \n",
        "Z=X  #賦予Z的值為99\n",
        "X=Y  #賦予X的值為102\n",
        "Y=Z  #賦予Y的值為99\n",
        "print(X,Y) #顯示(X,Y),(102,99)"
      ],
      "metadata": {
        "colab": {
          "base_uri": "https://localhost:8080/"
        },
        "id": "eH9hSsaNsaMr",
        "outputId": "56ef9d51-8722-42fb-e913-22a02986ec63"
      },
      "execution_count": null,
      "outputs": [
        {
          "output_type": "stream",
          "name": "stdout",
          "text": [
            "10 1\n"
          ]
        }
      ]
    },
    {
      "cell_type": "code",
      "source": [
        "#變數交換 利用數學加減法\n",
        "X=99 #賦予X的值為99\n",
        "Y=102 #賦予Y的值為102\n",
        "X+=Y  #X=X+Y,X=99+102=201\n",
        "Y=X-Y #Y=X-Y,Y=201-102=99\n",
        "X-=Y #X=X-Y,X=201-99=102\n",
        "print(X,Y)#顯示(X,Y)(102,99)"
      ],
      "metadata": {
        "colab": {
          "base_uri": "https://localhost:8080/"
        },
        "id": "eNZRpRGNstfN",
        "outputId": "8f2ba00e-49a9-47ec-81ae-96a521343a3a"
      },
      "execution_count": null,
      "outputs": [
        {
          "output_type": "stream",
          "name": "stdout",
          "text": [
            "102 99\n"
          ]
        }
      ]
    },
    {
      "cell_type": "code",
      "source": [
        "#變數交換 python版本的變數交換\n",
        "X=99 #賦予X的值為99\n",
        "Y=102 #賦予Y的值為102\n",
        "X,Y=Y,X #X賦予Y的值,Y賦予X的值.X,Y=102,99\n",
        "print(X,Y)#顯示(X,Y)(102,99)"
      ],
      "metadata": {
        "colab": {
          "base_uri": "https://localhost:8080/"
        },
        "id": "1gh_JwYQvQEU",
        "outputId": "ff59f539-6e25-49ae-8355-121054846042"
      },
      "execution_count": null,
      "outputs": [
        {
          "output_type": "stream",
          "name": "stdout",
          "text": [
            "102 99\n"
          ]
        }
      ]
    },
    {
      "cell_type": "markdown",
      "source": [
        "#變數\n",
        "###變數的平行設定"
      ],
      "metadata": {
        "id": "VmFGe_SSgDq6"
      }
    },
    {
      "cell_type": "code",
      "source": [
        "#平行設定\n",
        "X,Y,Z=1,2,3 #同時賦予X,Y,Z值\n",
        "print(X,Y,Z) #顯示(X,Y,Z)(1,2,3)"
      ],
      "metadata": {
        "colab": {
          "base_uri": "https://localhost:8080/"
        },
        "id": "1s6fIyw5vwaq",
        "outputId": "3f95ad69-18d1-405b-895e-e7a8afaba6f3"
      },
      "execution_count": null,
      "outputs": [
        {
          "output_type": "stream",
          "name": "stdout",
          "text": [
            "1 2 3\n"
          ]
        }
      ]
    },
    {
      "cell_type": "code",
      "source": [
        "#python的加乘法\n",
        "X,Y,Z=3,4,5 #賦予X,Y,Z值為3,4,5\n",
        "X+=1 #X=X+1\n",
        "Y*=2 #Y=Y*2 \n",
        "Z**=3 #Z=Z**3 (Z*Z*Z)\n",
        "print(X,Y,Z) #顯示(X,Y,Z)(4,8,125)"
      ],
      "metadata": {
        "colab": {
          "base_uri": "https://localhost:8080/"
        },
        "id": "e3ftefgoevEm",
        "outputId": "9153cae0-b984-4be7-8b13-49f387bb0433"
      },
      "execution_count": null,
      "outputs": [
        {
          "output_type": "stream",
          "name": "stdout",
          "text": [
            "4 8 125\n"
          ]
        }
      ]
    },
    {
      "cell_type": "markdown",
      "source": [
        "###變數的應用\n",
        "\n",
        "Q：邊長為3, 4, 5的三角形，其面積大小為何?\n",
        "海龍公式：\n",
        "s=(a+b+c)/2\n",
        "sqrt(s(s-a)(s-b)(s-c))"
      ],
      "metadata": {
        "id": "M7sC_HF9iUqK"
      }
    },
    {
      "cell_type": "code",
      "source": [
        "import math #宣告math模組\n",
        "a,b,c=3,4,5 #賦予a,b,c的值為3,4,5\n",
        "s=(a+b+c)/2b #賦予s值=(a+b+c)/2b\n",
        "d=math.sqrt(s*(s-a)*(s-b)*(s-c)) #利用海龍公式算出d(面積)\n",
        "print(d) #顯示面積(d)(6)"
      ],
      "metadata": {
        "colab": {
          "base_uri": "https://localhost:8080/"
        },
        "id": "VDlTvViDiUbe",
        "outputId": "25265346-9514-4c04-c3c3-9e7c0965b1b8"
      },
      "execution_count": null,
      "outputs": [
        {
          "output_type": "stream",
          "name": "stdout",
          "text": [
            "6.0\n"
          ]
        }
      ]
    },
    {
      "cell_type": "markdown",
      "source": [
        "Q:半徑為10的圓形，其面積大小為何?\n"
      ],
      "metadata": {
        "id": "WufWdsSWhwdp"
      }
    },
    {
      "cell_type": "code",
      "source": [
        "#圓形面積計算\n",
        "import math #宣告math模組\n",
        "r=10  #建立r變數為10\n",
        "print(r*r*math.pi)  #顯示r*r*math.pi的值"
      ],
      "metadata": {
        "colab": {
          "base_uri": "https://localhost:8080/"
        },
        "id": "f45GGu7GiZGd",
        "outputId": "4d461a79-9a9e-472c-953a-6b5b5900e96a"
      },
      "execution_count": null,
      "outputs": [
        {
          "output_type": "stream",
          "name": "stdout",
          "text": [
            "314.1592653589793\n"
          ]
        }
      ]
    },
    {
      "cell_type": "code",
      "source": [
        "#圓形面積計算 手動輸入變數\n",
        "import math #宣告math模組\n",
        "r=eval(input(\"請輸入圓的半徑：\"))   #eval()將字串轉化成數值運算\n",
        "print(r*r*math.pi) #顯示r*r*math.pi的值"
      ],
      "metadata": {
        "colab": {
          "base_uri": "https://localhost:8080/"
        },
        "id": "-tH3GXO4kYdN",
        "outputId": "601daaa8-c2ae-4643-dee9-09e8b09b9a5b"
      },
      "execution_count": null,
      "outputs": [
        {
          "output_type": "stream",
          "name": "stdout",
          "text": [
            "請輸入圓的半徑：23\n",
            "1661.9025137490005\n"
          ]
        }
      ]
    },
    {
      "cell_type": "markdown",
      "source": [
        "# 資料型別\n",
        "pythoo屬於動態類變數，使用前不需要宣告資料型態"
      ],
      "metadata": {
        "id": "Tp99mKbsqsvU"
      }
    },
    {
      "cell_type": "code",
      "source": [
        "x=254 #int整數\n",
        "y=254.0 #double浮點數\n",
        "z=\"write\" #str字串\n",
        "print(type(x)) #檢測(顯示看資料跑不跑得出來)\n",
        "print(type(y)) #檢測(顯示看資料跑不跑得出來)\n",
        "print(type(z)) #檢測(顯示看資料跑不跑得出來)\n",
        "print(type(x==y)) #布林運算式(判斷)"
      ],
      "metadata": {
        "colab": {
          "base_uri": "https://localhost:8080/"
        },
        "id": "rBRTSwOSq4J8",
        "outputId": "cbff59cd-d270-4212-d17f-257da0d51c6c"
      },
      "execution_count": null,
      "outputs": [
        {
          "output_type": "stream",
          "name": "stdout",
          "text": [
            "<class 'int'>\n",
            "<class 'float'>\n",
            "<class 'str'>\n",
            "<class 'bool'>\n"
          ]
        }
      ]
    },
    {
      "cell_type": "markdown",
      "source": [
        "#算術符號"
      ],
      "metadata": {
        "id": "XA3WpVJes8xK"
      }
    },
    {
      "cell_type": "code",
      "source": [
        "x=10 #賦予x的值為10\n",
        "y=3  #賦予y的值為3\n",
        "print(x/y)  #除法,顯示(x除以y)\n",
        "print(x//y)  #取商,顯示(x除以y得到的整數)\n",
        "print(x%y)  #取餘數,顯示(x除以y的餘數)"
      ],
      "metadata": {
        "id": "Dm_Cyb07s_sS"
      },
      "execution_count": null,
      "outputs": []
    },
    {
      "cell_type": "markdown",
      "source": [
        "#注意數字得正確性\n"
      ],
      "metadata": {
        "id": "hDjQ3NhKwUGS"
      }
    },
    {
      "cell_type": "code",
      "source": [
        "x=3.141592627 #賦予x的值為\n",
        "print(x-3.14) #比正確值略小(顯示x-3.14)"
      ],
      "metadata": {
        "id": "3NPCDn-RwZOc"
      },
      "execution_count": null,
      "outputs": []
    },
    {
      "cell_type": "markdown",
      "source": [
        "#算術符號的順序\n",
        "()括號>***次方>*/乘除>+-加減"
      ],
      "metadata": {
        "id": "XovQEjpwusmD"
      }
    },
    {
      "cell_type": "code",
      "source": [
        "x=(5*(1+2)**2-3+4/2) #運算X\n",
        "print(x) #顯示(x)(44.0)"
      ],
      "metadata": {
        "id": "j4suGUF6u7Vw"
      },
      "execution_count": null,
      "outputs": []
    },
    {
      "cell_type": "markdown",
      "source": [
        "#關係比較"
      ],
      "metadata": {
        "id": "IAWVqf33wrz-"
      }
    },
    {
      "cell_type": "code",
      "source": [
        "print(10==10) #顯示(True)(判斷10=10為True)\n",
        "x,y = 10,20 #賦予x,y值為10,20\n",
        "print(x==y)  #顯示(False)(判斷x=y為False)\n",
        "x=y      #賦予X的值為Y    \n",
        "print(x)    #顯示(x)(20)"
      ],
      "metadata": {
        "colab": {
          "base_uri": "https://localhost:8080/"
        },
        "id": "1GvMUzfxwvpJ",
        "outputId": "ba2efaf2-8f29-4cff-c278-e5b4ff23895a"
      },
      "execution_count": null,
      "outputs": [
        {
          "output_type": "stream",
          "name": "stdout",
          "text": [
            "True\n",
            "False\n",
            "20\n"
          ]
        }
      ]
    },
    {
      "cell_type": "markdown",
      "source": [
        "#關係運算，以閏年為例"
      ],
      "metadata": {
        "id": "xt_Rgv0Tw2Ey"
      }
    },
    {
      "cell_type": "code",
      "source": [
        "y=2010 #賦予y的值為2010\n",
        "print(y%4==0 and y%100!=0 or y%400==0) #顯示(Flase)\n",
        "y=2012 #賦予y的值為2012\n",
        "print(y%4==0 and y%100!=0 or y%400==0) #顯示(True)\n",
        "y=1900 #賦予y的值為1900\n",
        "print(y%4==0 and y%100!=0 or y%400==0) #顯示(Flase)\n",
        "y=2000 #賦予y的值為2000\n",
        "print(y%4==0 and y%100!=0 or y%400==0) #顯示(True)"
      ],
      "metadata": {
        "id": "uvG_l5Fhw5SE"
      },
      "execution_count": null,
      "outputs": []
    },
    {
      "cell_type": "markdown",
      "source": [
        "#型態轉換"
      ],
      "metadata": {
        "id": "1zAMG7LR0mEF"
      }
    },
    {
      "cell_type": "code",
      "source": [
        "#小心不同型態之間所得到的結果跟想像不同\n",
        "x=\"must\" # 宣告 = must \n",
        "print(10*x) #顯示(mustmustmustmustmustmustmustmustmustmust)\n",
        "print(\"10\"+x) #顯示(10must)\n",
        "print(10,x) #顯示(10 must)"
      ],
      "metadata": {
        "id": "2hY8WtDg0rE-"
      },
      "execution_count": null,
      "outputs": []
    },
    {
      "cell_type": "code",
      "source": [
        "x=12 #賦予x的值為12\n",
        "print(type(x)) #顯示(資料型態)<class 'int'>\n",
        "y=float(x)+0.5 #強制型別轉換\n",
        "print(type(y)) #顯示(資料型態)<class 'float'>\n",
        "print(int(\"123\")) #顯示123\n",
        "print(int(123.33)) #顯示123\n",
        "print(int(float(\"123.33\"))) #顯示123"
      ],
      "metadata": {
        "id": "85hYk-j30rJy"
      },
      "execution_count": null,
      "outputs": []
    },
    {
      "cell_type": "code",
      "source": [
        "#字串的型別轉換\n",
        "x=10*3.25  #x=32.5 \n",
        "y=200*200  #y=40000\n",
        "s=\"The value of x is \" + str(x) + ' and y is ' + str(y)  #宣告s\n",
        "print(s) #顯示(The value of x is 32.5 and y is 40000)\n",
        "print(\"The value of x is\", x,\"and y is\", y) #顯示(The value of x is 32.5 and y is 40000)\n",
        "print(\"The value of x is {} and y is {}\".format(x,y)) #顯示(The value of x is 32.5 and y is 40000)"
      ],
      "metadata": {
        "id": "bKyMD8n50rPF"
      },
      "execution_count": null,
      "outputs": []
    },
    {
      "cell_type": "markdown",
      "source": [
        "#非內建模組"
      ],
      "metadata": {
        "id": "ITGo5_Czz1eU"
      }
    },
    {
      "cell_type": "code",
      "source": [
        "import math #宣告math模組\n",
        "print(math.pi)  #顯示圓周率(3.141592653589793)\n",
        "print(math.pow(2,3))  #顯示2的3次方(8.0)\n",
        "print(8.3*10.58*math.sin(37.0/180*math.pi)/2) #顯示(8.0)\n",
        "print(math.sqrt(25)) #顯示(5.0)"
      ],
      "metadata": {
        "id": "GLhQwwW-z5Ij",
        "colab": {
          "base_uri": "https://localhost:8080/"
        },
        "outputId": "83547c9d-5049-4046-866c-c9b71f9a9049"
      },
      "execution_count": null,
      "outputs": [
        {
          "output_type": "stream",
          "name": "stdout",
          "text": [
            "3.141592653589793\n",
            "8.0\n",
            "26.423892221536985\n",
            "5.0\n"
          ]
        }
      ]
    },
    {
      "cell_type": "markdown",
      "source": [
        "#範例：算圓面積"
      ],
      "metadata": {
        "id": "MpkBYHEBz-F0"
      }
    },
    {
      "cell_type": "code",
      "source": [
        "import math #宣告math模組 \n",
        "r=input(\"請輸入圓的半徑：\") #輸入圓的半徑r \n",
        "area=float(r)*float(r)*math.pi #數學模型取得area \n",
        "print(\"圓面積為：\",area) #顯示(圓面積為:,area)"
      ],
      "metadata": {
        "id": "9w9P0mvH0DgR"
      },
      "execution_count": null,
      "outputs": []
    },
    {
      "cell_type": "markdown",
      "source": [
        "#應用題：算矩形面積"
      ],
      "metadata": {
        "id": "5qFvHfa-0HBm"
      }
    },
    {
      "cell_type": "code",
      "source": [
        "r=input(\"請輸入矩形的長：\") #輸入矩形的長r\n",
        "w=input(\"請輸入矩形的寬：\") #輸入矩形的寬w\n",
        "area=float(r)*float(w)  #area(面積)=r*w(長*寬)\n",
        "print(\"矩形面積為：\",area) #顯示(矩形的面積為:,area)"
      ],
      "metadata": {
        "id": "FeW7oJxu0J6j"
      },
      "execution_count": null,
      "outputs": []
    },
    {
      "cell_type": "markdown",
      "source": [
        "# eval()函數\n",
        "eval會把str型態的表示式，轉換成數學式進行計算 "
      ],
      "metadata": {
        "id": "m2QxKyac0Mfh"
      }
    },
    {
      "cell_type": "code",
      "source": [
        "print(eval(\"3+5\")) #顯示(8)\n",
        "id=input(\"請輸入產品編號：\") #請輸入產品編號:\n",
        "print(type(id)) #顯示(資料型態)<class 'str'>\n",
        "print(type(eval(id))) #顯示(資料型態)<class 'int'>"
      ],
      "metadata": {
        "id": "U-s3Zu3b0NgM"
      },
      "execution_count": null,
      "outputs": []
    },
    {
      "cell_type": "markdown",
      "source": [
        "#Print的三種方法\n",
        "1. 透過,區隔要列印的變數 eg: print(\"This\", \"is\", \"a\", \"book\") \n",
        "2. 利用字串的str.format() (新式)\n",
        "3. %格式化输出字符串 (舊式)"
      ],
      "metadata": {
        "id": "D3ciyCJayPI9"
      }
    },
    {
      "cell_type": "code",
      "source": [
        "a=\"This\"+\"is\"+\"a\"+\"book\"  #宣告a\n",
        "print(a) #顯示(a)(Thisisabook)\n",
        "print(\"This\",\"is\",\"a\",\"book\") #顯示(This is a book)\n"
      ],
      "metadata": {
        "id": "E4t9w2w0zKH8"
      },
      "execution_count": null,
      "outputs": []
    },
    {
      "cell_type": "markdown",
      "source": [
        "- 利用字串的str.format()，在{ }中替代變數的位置 \n",
        "- eg: print(\"This {} a book\".format(\"is\"))\n",
        "- {}中可以設定格式\n",
        "- 例如：{0:10} (10個空格，靠左對齊)\n",
        "- 例如：{:,2f} (三個數字用,分隔，小數點後2位數)\n",
        "\n"
      ],
      "metadata": {
        "id": "Gfw8ZBfm1C0x"
      }
    },
    {
      "cell_type": "code",
      "source": [
        "print(\"This {} a book\".format(\"is\")) #顯示(This is a book)\n",
        "x=123456.7890 #賦予x的值123456.7890\n",
        "print(\"{:.2f}\".format(x))  #顯示(123456.79)小數點後兩位\n",
        "print(\"{:,.2f}\".format(x)) #顯示(123,456.79),小數點前用,分開"
      ],
      "metadata": {
        "id": "SYIXPKv_1Def"
      },
      "execution_count": null,
      "outputs": []
    },
    {
      "cell_type": "markdown",
      "source": [
        "- C語言類似的 % 格式\n",
        "- %s (字串) %d (整數) %f (浮點數)\n",
        "- %s(字串): %10s (10格靠右對齊，不足的左方補空白), %-10s\n",
        "- %f(浮點數): %7.3f (總共7個浮點數位數，含一個小數點，以及三個小數點後數字)"
      ],
      "metadata": {
        "id": "isqCTSZK1kQD"
      }
    },
    {
      "cell_type": "code",
      "source": [
        "print(\"This %-10s a %10s\" % (\"is\", \"book\")) #顯示(This is         a       book)字串占10格，靠右2格\n",
        "print(\"%7.3f\" % 6789.4333) #顯示(6789.433)"
      ],
      "metadata": {
        "id": "pI7g29IV1mMx"
      },
      "execution_count": null,
      "outputs": []
    },
    {
      "cell_type": "markdown",
      "source": [
        "# Chap2 流程控制"
      ],
      "metadata": {
        "id": "E_blblWa2cek"
      }
    },
    {
      "cell_type": "markdown",
      "source": [
        "##if else , else"
      ],
      "metadata": {
        "id": "F97xu33Vsutr"
      }
    },
    {
      "cell_type": "code",
      "source": [
        "a=3 #賦予a的值為3\n",
        "b=4 #賦予b的值為4\n",
        "if a<=b:  #如果a小於等於b\n",
        "  print(\"b是比較大的程式\") #顯示(b是比較大的程式)\n",
        "else :  #反之，(如果沒有執行if就執行else)\n",
        "  print(\"a是比較大的程式\") #顯示(a是比較大的程式)"
      ],
      "metadata": {
        "id": "5iZRy-1FsvX7"
      },
      "execution_count": null,
      "outputs": []
    },
    {
      "cell_type": "code",
      "source": [
        "a=4 #賦予a的值為4\n",
        "b=3 #賦予b的值為3\n",
        "if a>b: #如果a>b  \n",
        "  print(\"a>b\") #顯示(a>b) \n",
        "elif a==b: #如果判斷a=b的話執行\n",
        "  print(\"a=b\") #顯示(a=b)\n",
        "else: #以上兩個條件都不是的話執行\n",
        "  print(\"b>a\") #顯示(b>a)"
      ],
      "metadata": {
        "id": "9SXhW-xetQQs"
      },
      "execution_count": null,
      "outputs": []
    },
    {
      "cell_type": "markdown",
      "source": [
        "### 成績評鑑"
      ],
      "metadata": {
        "id": "ipNnaItb2lEW"
      }
    },
    {
      "cell_type": "code",
      "source": [
        "grade=87 #賦予grade的值為87\n",
        "print(\"成績評測\") #顯示(成績評測)\n",
        "if grade>=90: #如果grade>90就執行\n",
        "  print(\"優等\") #顯示(優等)\n",
        "elif grade>=80: #如果grade>=80就執行\n",
        "  print(\"甲等\") #顯示(甲等)\n",
        "elif grade>=70: #如果grade>=70就執行\n",
        "  print(\"乙等\") #顯示(乙等)\n",
        "elif grade>=60: #如果grade>=60就執行\n",
        "  print(\"丙等\") #顯示(丙等)\n",
        "else:       #以上條件都不符合則執行\n",
        "  print(\"不及格\") #顯示(不及格)"
      ],
      "metadata": {
        "id": "CzVED9Qhxk_S"
      },
      "execution_count": null,
      "outputs": []
    },
    {
      "cell_type": "markdown",
      "source": [
        "## for 迴圈"
      ],
      "metadata": {
        "id": "1EfthzuM2ytM"
      }
    },
    {
      "cell_type": "code",
      "source": [
        "#1+2+3...+10總和\n",
        "sum = 0 #sum初始化\n",
        "for count in range(1, 11, 1): #count值從1開始，間隔1，不包括11\n",
        "    sum += count #sum的值加上count的值(計算sum) \n",
        "print(\"1+2+3+...+10 =\", sum) #顯示(結果,sum)(55) "
      ],
      "metadata": {
        "colab": {
          "base_uri": "https://localhost:8080/"
        },
        "id": "XEg_jSMA250K",
        "outputId": "7bd688b6-d6fc-43ce-e4dc-84b30ee21a3d"
      },
      "execution_count": null,
      "outputs": [
        {
          "output_type": "stream",
          "name": "stdout",
          "text": [
            "1+2+3+...+10 = 55\n"
          ]
        }
      ]
    },
    {
      "cell_type": "code",
      "source": [
        "#range另外一種寫法\n",
        "#1+2+3...+10總和\n",
        "sum = 0 #sum初始化\n",
        "for count in range(11): #count值1~10,11不執行\n",
        "    sum += count #sum的值加上count的值(計算sum)\n",
        "print(\"1+2+3+...+10 =\", sum) #顯示(最後的總合,sum)(55) "
      ],
      "metadata": {
        "id": "v2f-wdUg289q"
      },
      "execution_count": null,
      "outputs": []
    },
    {
      "cell_type": "code",
      "source": [
        "for i in range(10): #用for迴圈分別印出i的值,i=0~9\n",
        "  print(i) #顯示(i)\n",
        "print(\"\\n\") #換行\n",
        "for i in range(0,10,1): #用for回圈分別印出i的值,i=0~9\n",
        "  print(i)#顯示(i)"
      ],
      "metadata": {
        "id": "fTKX0dvx2hwC"
      },
      "execution_count": null,
      "outputs": []
    },
    {
      "cell_type": "code",
      "source": [
        "for c in \"i am a boy\": #將\"\"內的字元每行依序印出 \n",
        "  print(c) #顯示c值\n",
        "for pl in [\"java\",\"python\",\"c#\"]: #將\"\"內的字串是為一組，每行印出一組\n",
        "  print(pl)"
      ],
      "metadata": {
        "id": "KoquMMs24tu5"
      },
      "execution_count": null,
      "outputs": []
    },
    {
      "cell_type": "code",
      "source": [
        "sum=0 #初始化sum \n",
        "for i in range(1,11,1): #for迴圈計算sum(i 的值從1開始，間隔1，不包含11)\n",
        "  sum+=i #sum的值=sum的值加上i的值\n",
        "  print(sum) #顯示(sum的值)\n"
      ],
      "metadata": {
        "id": "lJh_H2Yb7Zsm"
      },
      "execution_count": null,
      "outputs": []
    },
    {
      "cell_type": "markdown",
      "source": [
        "### 雞兔同籠，若共有35個頭，94隻腳，請問有幾隻雞?幾隻兔?"
      ],
      "metadata": {
        "id": "nt4Ha5EP3NqT"
      }
    },
    {
      "cell_type": "code",
      "source": [
        "for chicken in range(0,36): #預設雞雞的數量為chicken隻，範圍從0~35(不包含36) \n",
        "    rabbit=35-chicken #兔兔的數量=35-雞雞的數量\n",
        "    if (2*chicken+4*rabbit) == 94: #如果腳的數量符合\n",
        "        print(\"雞有\",chicken,\"隻,兔子有\",rabbit,\"隻\")#顯示正確的數量\n",
        "        break #跳出\n",
        "else: #如果不滿足以上條件\n",
        "    print(\"無解\") #顯示(無解)"
      ],
      "metadata": {
        "id": "-HTwYSSl3PUS"
      },
      "execution_count": null,
      "outputs": []
    },
    {
      "cell_type": "markdown",
      "source": [
        "## while迴圈"
      ],
      "metadata": {
        "id": "czYmM8b63uA5"
      }
    },
    {
      "cell_type": "code",
      "source": [
        "sum=0 #初始化sum\n",
        "count=1 #賦予count的值為1\n",
        "while count <=10: #用while 迴圈，當count<=10執行\n",
        "    sum += count #count的值加入sum\n",
        "    count += 1 #count的值加1\n",
        "print(\"1+2+3+...+10=\",sum) #顯示(最後總和,sum)(55)"
      ],
      "metadata": {
        "colab": {
          "base_uri": "https://localhost:8080/"
        },
        "id": "TLW1xyDL-A5T",
        "outputId": "b66b0598-7928-438a-d562-725ed5393d06"
      },
      "execution_count": null,
      "outputs": [
        {
          "output_type": "stream",
          "name": "stdout",
          "text": [
            "1+2+3+...+10= 55\n"
          ]
        }
      ]
    },
    {
      "cell_type": "markdown",
      "source": [
        "### 本金10000元，定存年利率0.6%，請問多久銀行存款會翻倍"
      ],
      "metadata": {
        "id": "zKIFmCA_35iQ"
      }
    },
    {
      "cell_type": "code",
      "source": [
        "x=10000 #本金10000\n",
        "years=0 #年份從0開始計算\n",
        "while x <= 20000: #在x翻倍前(x<=20000)\n",
        "    x=x*1.006 #每年乘以1.006\n",
        "    years += 1 #年份加1\n",
        "print(str(years), \"年以後，存款加倍，為\", int(x),\"元\") #顯示計算結果(116 年以後，存款加倍，為 20015 元)"
      ],
      "metadata": {
        "id": "clgftOnX36C3"
      },
      "execution_count": null,
      "outputs": []
    },
    {
      "cell_type": "markdown",
      "source": [
        "### 帳號密碼判斷"
      ],
      "metadata": {
        "id": "zKHhwI8o37kI"
      }
    },
    {
      "cell_type": "code",
      "source": [
        "id=\"tony\" #預設id為tony\n",
        "pwd=\"1234\" #密碼為1234\n",
        "while True: #持續執行 \n",
        "    x=input(\"請輸入帳號：\")#顯示(請輸入帳號:),等待\n",
        "    y=input(\"請輸入密碼：\")#顯示(請輸入密碼:),等待\n",
        "    if (x==id and y==pwd):#如帳號與密碼都正確\n",
        "        print(\"歡迎登入\")#顯示(歡迎登入)\n",
        "        break #跳出\n",
        "    else:#如果以上條件都不符合\n",
        "        print(\"帳號或密碼輸入錯誤\")#顯示(帳號或密碼輸入錯誤)"
      ],
      "metadata": {
        "id": "jpya1P-O39d8"
      },
      "execution_count": null,
      "outputs": []
    },
    {
      "cell_type": "markdown",
      "source": [
        "## 亂數"
      ],
      "metadata": {
        "id": "hmbrMiRb4Ar4"
      }
    },
    {
      "cell_type": "code",
      "source": [
        "import random #導入random模組 \n",
        "for i in range(0,10): #for迴圈(i的範圍0~9)\n",
        "    print(random.randint(1,9))#顯示產生的亂數(1~9)"
      ],
      "metadata": {
        "id": "HbkTY0rU4CXm"
      },
      "execution_count": null,
      "outputs": []
    },
    {
      "cell_type": "markdown",
      "source": [
        "### 猜數字"
      ],
      "metadata": {
        "id": "ZKSyYRks4FVG"
      }
    },
    {
      "cell_type": "code",
      "source": [
        "import random #宣告random模組\n",
        "number=random.randint(1,20) #number=產生出的亂數\n",
        "while True: #重複執行\n",
        "    guess=int(input(\"請輸入1~20之間的數字-->\"))# guess = 顯示(請輸入1~20之間的數字-->),並等待\n",
        "    if guess == number: #如果輸入的數字等於產生出的亂數\n",
        "        print(\"你猜對了，數字是\", number) #顯示(你猜對了，數字是，number)\n",
        "        break #跳出迴圈\n",
        "    else: #如果以上條件不成立\n",
        "        print(\"你猜錯了\")#顯示(你猜錯了)，並回到while迴圈繼續執行"
      ],
      "metadata": {
        "id": "BZFlXwkQ4G0S"
      },
      "execution_count": null,
      "outputs": []
    }
  ],
  "metadata": {
    "kernelspec": {
      "display_name": "Python 3",
      "language": "python",
      "name": "python3"
    },
    "language_info": {
      "codemirror_mode": {
        "name": "ipython",
        "version": 3
      },
      "file_extension": ".py",
      "mimetype": "text/x-python",
      "name": "python",
      "nbconvert_exporter": "python",
      "pygments_lexer": "ipython3",
      "version": "3.6.3"
    },
    "colab": {
      "name": "「期中作業」的副本",
      "provenance": [],
      "collapsed_sections": []
    }
  },
  "nbformat": 4,
  "nbformat_minor": 0
}