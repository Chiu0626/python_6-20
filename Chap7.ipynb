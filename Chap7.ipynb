{
 "cells": [
  {
   "cell_type": "markdown",
   "metadata": {},
   "source": [
    "# Chap7 錯誤處理\n",
    "try:  \n",
    "except:  \n",
    "else:  \n",
    "finally:  "
   ]
  },
  {
   "cell_type": "code",
   "execution_count": 4,
   "metadata": {},
   "outputs": [
    {
     "ename": "NameError",
     "evalue": "name 'n' is not defined",
     "output_type": "error",
     "traceback": [
      "\u001b[1;31m---------------------------------------------------------------------------\u001b[0m",
      "\u001b[1;31mNameError\u001b[0m                                 Traceback (most recent call last)",
      "\u001b[1;32m<ipython-input-4-c19f432ee023>\u001b[0m in \u001b[0;36m<module>\u001b[1;34m\u001b[0m\n\u001b[0;32m      2\u001b[0m \u001b[0mb\u001b[0m\u001b[1;33m=\u001b[0m\u001b[1;36m20\u001b[0m\u001b[1;33m\u001b[0m\u001b[1;33m\u001b[0m\u001b[0m\n\u001b[0;32m      3\u001b[0m \u001b[1;32mif\u001b[0m \u001b[0ma\u001b[0m\u001b[1;33m<\u001b[0m\u001b[0mb\u001b[0m\u001b[1;33m:\u001b[0m\u001b[1;33m\u001b[0m\u001b[1;33m\u001b[0m\u001b[0m\n\u001b[1;32m----> 4\u001b[1;33m     \u001b[0mprint\u001b[0m\u001b[1;33m(\u001b[0m\u001b[0mn\u001b[0m\u001b[1;33m)\u001b[0m\u001b[1;33m\u001b[0m\u001b[1;33m\u001b[0m\u001b[0m\n\u001b[0m",
      "\u001b[1;31mNameError\u001b[0m: name 'n' is not defined"
     ]
    }
   ],
   "source": [
    "a=10 #宣告a=10\n",
    "b=20 #宣告b=20\n",
    "if a<b: #判斷a跟b的大小(如果a小於b)\n",
    "    print(n) #顯示n(因為沒有宣告n所以找不到n)"
   ]
  },
  {
   "cell_type": "code",
   "execution_count": 3,
   "metadata": {},
   "outputs": [
    {
     "name": "stdout",
     "output_type": "stream",
     "text": [
      "錯誤產生\n"
     ]
    }
   ],
   "source": [
    "a=10 #宣告a=10\n",
    "b=20 #宣告b=20\n",
    "try: \n",
    "    if a<b: #如果a小於b\n",
    "        print(n) #印出n\n",
    "except:\n",
    "    print(\"錯誤產生\") #印出錯誤產生"
   ]
  },
  {
   "cell_type": "markdown",
   "metadata": {},
   "source": [
    "## 指定錯誤類別處理"
   ]
  },
  {
   "cell_type": "code",
   "execution_count": 10,
   "metadata": {},
   "outputs": [
    {
     "name": "stdout",
     "output_type": "stream",
     "text": [
      "錯誤產生, 錯誤原因： name 'n' is not defined\n"
     ]
    }
   ],
   "source": [
    "a=10 #宣告a=10\n",
    "b=20 #宣告b=20\n",
    "try:\n",
    "    if a<b: #如果a小於b\n",
    "        print(n) #印出n\n",
    "except NameError as e:  #e為錯誤原因\n",
    "    print(\"錯誤產生, 錯誤原因：\",e) #印出錯誤\n",
    "except ZeroDivisionError:\n",
    "    print(\"除以0錯誤\")"
   ]
  },
  {
   "cell_type": "markdown",
   "metadata": {},
   "source": [
    "## else\n",
    "沒有錯誤產生會執行的部分"
   ]
  },
  {
   "cell_type": "code",
   "execution_count": 11,
   "metadata": {},
   "outputs": [
    {
     "name": "stdout",
     "output_type": "stream",
     "text": [
      "沒有錯誤發生時會執行的部分\n"
     ]
    }
   ],
   "source": [
    "a=10 #宣告a=10\n",
    "b=20 #宣告b=10 \n",
    "try:\n",
    "    if a>b: #改變比較條件，讓錯誤不發生\n",
    "        print(n)\n",
    "except:\n",
    "    print(\"錯誤發生\") #印出\n",
    "else: #a沒有大於b時執行\n",
    "    print(\"沒有錯誤發生時會執行的部分\") #印出"
   ]
  },
  {
   "cell_type": "code",
   "execution_count": 12,
   "metadata": {},
   "outputs": [
    {
     "name": "stdout",
     "output_type": "stream",
     "text": [
      "沒有錯誤發生時會執行的部分\n",
      "不管有沒有錯誤一定會執行的部分\n"
     ]
    }
   ],
   "source": [
    "a=10 #宣告a=10\n",
    "b=20 #宣告b=20\n",
    "try:\n",
    "    if a>b: #改變比較條件，讓錯誤不發生\n",
    "        print(n)\n",
    "except:\n",
    "    print(\"錯誤發生\") #印出\n",
    "else: #顯示\n",
    "    print(\"沒有錯誤發生時會執行的部分\")\n",
    "finally: \n",
    "    print(\"不管有沒有錯誤一定會執行的部分\") #印出"
   ]
  },
  {
   "cell_type": "code",
   "execution_count": null,
   "metadata": {},
   "outputs": [],
   "source": []
  }
 ],
 "metadata": {
  "kernelspec": {
   "display_name": "Python 3",
   "language": "python",
   "name": "python3"
  },
  "language_info": {
   "codemirror_mode": {
    "name": "ipython",
    "version": 3
   },
   "file_extension": ".py",
   "mimetype": "text/x-python",
   "name": "python",
   "nbconvert_exporter": "python",
   "pygments_lexer": "ipython3",
   "version": "3.8.5"
  }
 },
 "nbformat": 4,
 "nbformat_minor": 4
}
