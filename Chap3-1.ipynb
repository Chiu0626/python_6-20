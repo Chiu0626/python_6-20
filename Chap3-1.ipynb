{
  "cells": [
    {
      "cell_type": "markdown",
      "metadata": {
        "id": "j7ppCx7DbEcd"
      },
      "source": [
        "## Tuple (元組)\n",
        "tuple(元組)可視為不可改變的串列，tuple跟list很像，但是我們不能新增、刪除或更新tuple的元素。tuple的好處有：\n",
        "1. 佔用較少空間\n",
        "2. 可當作dictionary(字典)的鍵值\n",
        "3. 可當作函式引數"
      ]
    },
    {
      "cell_type": "code",
      "execution_count": null,
      "metadata": {
        "id": "7PDcKY9pbEcd",
        "outputId": "0640ad11-457d-403e-dfd6-4eb7b0249f34"
      },
      "outputs": [
        {
          "name": "stdout",
          "output_type": "stream",
          "text": [
            "('python', 'js', 'SQL')\n",
            "('go', 'c#', 'vb')\n",
            "go\n"
          ]
        }
      ],
      "source": [
        "a_tuple=('python', 'js', 'SQL') #宣告a元組\n",
        "print(a_tuple) #印出a元組\n",
        "b_list=['go', 'c#', 'vb'] #宣告b串列\n",
        "b_tuple=tuple(b_list) #b元組為b串列\n",
        "print(b_tuple) #印出b元組\n",
        "print(b_tuple[0]) #印出b元組裡的第0個位置\n"
      ]
    },
    {
      "cell_type": "code",
      "execution_count": null,
      "metadata": {},
      "outputs": [],
      "source": []
    },
    {
      "cell_type": "markdown",
      "metadata": {
        "id": "CUXAeIhFbEcd"
      },
      "source": [
        "### 字典(dictionary - dict)為帶有鍵值(key)的串列(list)"
      ]
    },
    {
      "cell_type": "code",
      "execution_count": null,
      "metadata": {
        "id": "8jVAFMBhbEcd",
        "outputId": "7be9f04f-00c1-4556-a43b-e7f7253755ca"
      },
      "outputs": [
        {
          "name": "stdout",
          "output_type": "stream",
          "text": [
            "python\n",
            "3.7\n",
            "python\n",
            "java\n",
            "SQL\n",
            "{'name': 'python', 'version': '3.7'}\n",
            "dict_keys(['name', 'version'])\n",
            "dict_values(['python', '3.7'])\n",
            "dict_items([('name', 'python'), ('version', '3.7')])\n",
            "True\n"
          ]
        }
      ],
      "source": [
        "languages = {} #宣告languages為空串列\n",
        "languages = {'name':'python', 'version':'3.7'} #宣告languages索引值(鍵值)可以自訂\n",
        "print(languages['name']) #印出索引值索'name' \n",
        "print(languages['version']) #印出索引值'version'\n",
        "a={0:'python', 1:'java', 2:'SQL'} #宣告a的索引值\n",
        "print(a[0]) #印出a串列的第0個位置\n",
        "print(a[1]) #印出a串列的第1個位置\n",
        "print(a[2]) #印出a串列的第2個位置\n",
        "print(languages) #印出languages串列\n",
        "print(languages.keys()) # 印出字典鍵值\n",
        "print(languages.values()) #印出字典鍵值內容\n",
        "print(languages.items()) #印出字典\n",
        "print('name' in languages) #name是否在字典languages內，並印出判斷結果"
      ]
    },
    {
      "cell_type": "code",
      "execution_count": null,
      "metadata": {
        "id": "j3py58PubEce"
      },
      "outputs": [],
      "source": []
    }
  ],
  "metadata": {
    "colab": {
      "name": "Chap4.ipynb",
      "provenance": []
    },
    "kernelspec": {
      "display_name": "Python 3",
      "language": "python",
      "name": "python3"
    },
    "language_info": {
      "codemirror_mode": {
        "name": "ipython",
        "version": 3
      },
      "file_extension": ".py",
      "mimetype": "text/x-python",
      "name": "python",
      "nbconvert_exporter": "python",
      "pygments_lexer": "ipython3",
      "version": "3.7.4"
    }
  },
  "nbformat": 4,
  "nbformat_minor": 0
}
